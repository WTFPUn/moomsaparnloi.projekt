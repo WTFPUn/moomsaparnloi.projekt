{
 "cells": [
  {
   "cell_type": "code",
   "execution_count": 1,
   "metadata": {},
   "outputs": [],
   "source": [
    "import cv2\n",
    "import os "
   ]
  },
  {
   "cell_type": "code",
   "execution_count": 6,
   "metadata": {},
   "outputs": [
    {
     "data": {
      "text/plain": [
       "['.ipynb_checkpoints',\n",
       " 'convert.py',\n",
       " 'Examples',\n",
       " 'Images',\n",
       " 'missing.txt',\n",
       " 'mortorcycle_list.txt',\n",
       " 'Multiple_Images',\n",
       " 'obj.names',\n",
       " 'olo.ipynb',\n",
       " 'piford.data',\n",
       " 'piford.names',\n",
       " 'test.txt',\n",
       " 'train.txt',\n",
       " 'Untitled.ipynb',\n",
       " 'video',\n",
       " 'video2frame.ipynb',\n",
       " 'yolov4-custom.cfg']"
      ]
     },
     "execution_count": 6,
     "metadata": {},
     "output_type": "execute_result"
    }
   ],
   "source": [
    "os.listdir()"
   ]
  },
  {
   "cell_type": "code",
   "execution_count": 12,
   "metadata": {},
   "outputs": [],
   "source": [
    "# os.chdir('video/')\n",
    "lsdir = os.listdir()\n",
    "for j in range(len(lsdir)):\n",
    "  cap= cv2.VideoCapture(lsdir[j])\n",
    "  i=0\n",
    "  while(cap.isOpened()):\n",
    "      ret, frame = cap.read()\n",
    "      if ret == False:\n",
    "          break\n",
    "      cv2.imwrite(f'../video2img/{j}_{i}.jpg',frame)\n",
    "      i+=1\n",
    "  cap.release()\n",
    "  cv2.destroyAllWindows()\n",
    "  if j == 0:\n",
    "      break"
   ]
  },
  {
   "cell_type": "code",
   "execution_count": null,
   "metadata": {},
   "outputs": [],
   "source": []
  }
 ],
 "metadata": {
  "interpreter": {
   "hash": "49819a6a13ade38394e1dbd96a2428140833e6ce0e93067c6d9162702a202444"
  },
  "kernelspec": {
   "display_name": "Python 3.7.4 32-bit",
   "language": "python",
   "name": "python3"
  },
  "language_info": {
   "codemirror_mode": {
    "name": "ipython",
    "version": 3
   },
   "file_extension": ".py",
   "mimetype": "text/x-python",
   "name": "python",
   "nbconvert_exporter": "python",
   "pygments_lexer": "ipython3",
   "version": "3.8.12"
  },
  "orig_nbformat": 4
 },
 "nbformat": 4,
 "nbformat_minor": 2
}
